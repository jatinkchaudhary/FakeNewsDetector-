{
  "nbformat": 4,
  "nbformat_minor": 0,
  "metadata": {
    "colab": {
      "name": "Fake News Detector.ipynb",
      "provenance": [],
      "authorship_tag": "ABX9TyP386PtN7hiCVYa6ru4oiZ5",
      "include_colab_link": true
    },
    "kernelspec": {
      "name": "python3",
      "display_name": "Python 3"
    },
    "language_info": {
      "name": "python"
    }
  },
  "cells": [
    {
      "cell_type": "markdown",
      "metadata": {
        "id": "view-in-github",
        "colab_type": "text"
      },
      "source": [
        "<a href=\"https://colab.research.google.com/github/jatinkchaudhary/FakeNewsDetector-/blob/main/Fake_News_Detector.ipynb\" target=\"_parent\"><img src=\"https://colab.research.google.com/assets/colab-badge.svg\" alt=\"Open In Colab\"/></a>"
      ]
    },
    {
      "cell_type": "markdown",
      "metadata": {
        "id": "9Fdw1tduyomz"
      },
      "source": [
        "# **This is made to differentiate between real and fake news being generated on the web. **"
      ]
    },
    {
      "cell_type": "markdown",
      "metadata": {
        "id": "5l2IEsH43CO3"
      },
      "source": [
        "Necessary Imports "
      ]
    },
    {
      "cell_type": "code",
      "metadata": {
        "colab": {
          "base_uri": "https://localhost:8080/"
        },
        "id": "l5kX_V8M3BBi",
        "outputId": "a1c3c3b6-560c-46bd-d04e-7b8a537a1518"
      },
      "source": [
        "!pip install sklearn \n",
        "import numpy as np \n",
        "import pandas as pd \n",
        "import itertools\n",
        "from sklearn.model_selection import train_test_split\n",
        "from sklearn.feature_extraction.text import TfidfVectorizer\n",
        "from sklearn.metrics import accuracy_score, confusion_matrix \n",
        "from sklearn.linear_model import PassiveAggressiveClassifier\n",
        "from sklearn.preprocessing import label_binarize"
      ],
      "execution_count": 43,
      "outputs": [
        {
          "output_type": "stream",
          "text": [
            "Requirement already satisfied: sklearn in /usr/local/lib/python3.7/dist-packages (0.0)\n",
            "Requirement already satisfied: scikit-learn in /usr/local/lib/python3.7/dist-packages (from sklearn) (0.22.2.post1)\n",
            "Requirement already satisfied: numpy>=1.11.0 in /usr/local/lib/python3.7/dist-packages (from scikit-learn->sklearn) (1.19.5)\n",
            "Requirement already satisfied: scipy>=0.17.0 in /usr/local/lib/python3.7/dist-packages (from scikit-learn->sklearn) (1.4.1)\n",
            "Requirement already satisfied: joblib>=0.11 in /usr/local/lib/python3.7/dist-packages (from scikit-learn->sklearn) (1.0.1)\n"
          ],
          "name": "stdout"
        }
      ]
    },
    {
      "cell_type": "markdown",
      "metadata": {
        "id": "y9n5TMwE4d5U"
      },
      "source": [
        "Data reading"
      ]
    },
    {
      "cell_type": "code",
      "metadata": {
        "colab": {
          "base_uri": "https://localhost:8080/"
        },
        "id": "awPcuXGWynv6",
        "outputId": "c3db7b2a-fb2c-438a-bc1a-a713f41c3368"
      },
      "source": [
        "df= pd.read_csv('news.csv')\n",
        "#The head of the dataset \n",
        "df.head()\n",
        "#Shape of the dataset \n",
        "df.shape\n",
        "\n",
        "#The labels given in the dataset \n",
        "labels = df.label\n",
        "labels.head()"
      ],
      "execution_count": 44,
      "outputs": [
        {
          "output_type": "execute_result",
          "data": {
            "text/plain": [
              "0    FAKE\n",
              "1    FAKE\n",
              "2    REAL\n",
              "3    FAKE\n",
              "4    REAL\n",
              "Name: label, dtype: object"
            ]
          },
          "metadata": {
            "tags": []
          },
          "execution_count": 44
        }
      ]
    },
    {
      "cell_type": "markdown",
      "metadata": {
        "id": "JhS3kXNG9cma"
      },
      "source": [
        "Splitting the test and the training set. "
      ]
    },
    {
      "cell_type": "code",
      "metadata": {
        "id": "xwngmQEmyOeC"
      },
      "source": [
        "x_train, x_test, y_train, y_test = train_test_split(df['text'], labels, test_size=0.3, random_state=4) "
      ],
      "execution_count": 45,
      "outputs": []
    },
    {
      "cell_type": "markdown",
      "metadata": {
        "id": "FTA3bUG9GtxT"
      },
      "source": [
        ""
      ]
    },
    {
      "cell_type": "code",
      "metadata": {
        "id": "5E6KpBeF-2gK"
      },
      "source": [
        "#start the vectorization with stop word as 'english'\n",
        "tfidf_vecctorizer = TfidfVectorizer(stop_words='english', lowercase='true', max_df=0.7)\n",
        "#Test and Train model \n",
        "tfidf_train = tfidf_vecctorizer.fit_transform(x_train)\n",
        "tfidf_test = tfidf_vectorizer.transform(x_test)"
      ],
      "execution_count": 46,
      "outputs": []
    },
    {
      "cell_type": "code",
      "metadata": {
        "id": "uKWXiwDODKq9"
      },
      "source": [
        "#int PassiveAgressiveClassifier\n",
        "Classifier = PassiveAggressiveClassifier(max_iter=100)\n",
        "#training the model \n",
        "Classifier.fit(tfidf_train, y_train)\n",
        "#Generating the prediction  \n",
        "y_pred = Classifier.predict(tfidf_test)\n"
      ],
      "execution_count": 47,
      "outputs": []
    },
    {
      "cell_type": "code",
      "metadata": {
        "colab": {
          "base_uri": "https://localhost:8080/"
        },
        "id": "Cpdec_nLEmNg",
        "outputId": "a9be3f3f-3ed6-4944-e218-449293b696d8"
      },
      "source": [
        "#Accuracy score \n",
        "score= accuracy_score(y_test,y_pred)\n",
        "print(f'Accuracy: {round(score*100,2)}%')"
      ],
      "execution_count": 48,
      "outputs": [
        {
          "output_type": "stream",
          "text": [
            "Accuracy: 92.95%\n"
          ],
          "name": "stdout"
        }
      ]
    },
    {
      "cell_type": "code",
      "metadata": {
        "colab": {
          "base_uri": "https://localhost:8080/"
        },
        "id": "6Qiq4KR7FdqS",
        "outputId": "9f00eebd-3236-4264-ead0-9fb4c5d5a34d"
      },
      "source": [
        "#Confusion Matrix\n",
        "confusion_matrix(y_test,y_pred, labels=['FAKE', 'REAL'])"
      ],
      "execution_count": 49,
      "outputs": [
        {
          "output_type": "execute_result",
          "data": {
            "text/plain": [
              "array([[874,  62],\n",
              "       [ 72, 893]])"
            ]
          },
          "metadata": {
            "tags": []
          },
          "execution_count": 49
        }
      ]
    },
    {
      "cell_type": "markdown",
      "metadata": {
        "id": "hNGzTINsGBYG"
      },
      "source": [
        "This suggests that the model has 872 true positives, 894 true negatives and on the other side, 64 false positives and 71 false negatives. "
      ]
    },
    {
      "cell_type": "code",
      "metadata": {
        "id": "uMgBhjfEF_uZ"
      },
      "source": [
        ""
      ],
      "execution_count": 49,
      "outputs": []
    }
  ]
}